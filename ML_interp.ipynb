{
 "cells": [
  {
   "cell_type": "markdown",
   "id": "869a2589",
   "metadata": {},
   "source": [
    "# Particle Position Interpolation - Random Forest vs Linear Interpolation\n",
    "Missing data in particle tracking data is an important problem that is generally solved through predictive linking, which uses en ensemple of particle data to accurately guess missing positions of particles (see Trackpy v.0.5.0). Particles are lost for numerous reasons, due to phenomena such as lighting changes and image sensor issues.\n",
    "This notebook endeavors to show two simple methods for interpolating this missing data in a single real particle track."
   ]
  },
  {
   "cell_type": "markdown",
   "id": "364a2394",
   "metadata": {},
   "source": [
    "### Module Imports"
   ]
  },
  {
   "cell_type": "code",
   "execution_count": null,
   "id": "fbb51926",
   "metadata": {},
   "outputs": [],
   "source": [
    "import pandas as pd\n",
    "import numpy as np\n",
    "from sklearn.ensemble import RandomForestRegressor\n",
    "from sklearn.model_selection import train_test_split\n",
    "import matplotlib.pyplot as plt"
   ]
  },
  {
   "cell_type": "markdown",
   "id": "8be20b32",
   "metadata": {},
   "source": [
    "### Parameters and Data Import and Preprocessing"
   ]
  },
  {
   "cell_type": "code",
   "execution_count": null,
   "id": "ee1f29ce",
   "metadata": {},
   "outputs": [],
   "source": [
    "# physical parameters of model\n",
    "scale = 61. # pixels / cm\n",
    "\n",
    "# load particle data, sort and reset index\n",
    "particles = pd.read_csv('pjt_particle_example.csv')\n",
    "particles.sort_values(by=['frame','particle'],inplace=True)\n",
    "particles = particles[['frame','particle','x','y']].reset_index(drop=True)"
   ]
  },
  {
   "cell_type": "markdown",
   "id": "9815394a",
   "metadata": {},
   "source": [
    "# Random Forest ML Interpolation\n",
    "This method uses multiple decision trees to form a more robust regression model based on random subsets of training data."
   ]
  },
  {
   "cell_type": "code",
   "execution_count": null,
   "id": "e3a11405",
   "metadata": {},
   "outputs": [],
   "source": [
    "# Split the data into features (X) and target variable(s) (y)\n",
    "X = particles[['frame','particle']]\n",
    "y_x = particles['x']\n",
    "y_y = particles['y']\n",
    "\n",
    "# Split the data into training and testing sets [20% test, 80% training]\n",
    "X_train, X_test, y_x_train, y_x_test = train_test_split(X, y_x, test_size=0.20, random_state=42)\n",
    "_, _, y_y_train, y_y_test = train_test_split(X, y_y, test_size=0.20, random_state=42)\n",
    "\n",
    "# Initialize RandomForestRegressor for x and y positions\n",
    "regressor_x = RandomForestRegressor(n_estimators=100, random_state=42)\n",
    "regressor_x.fit(X_train, y_x_train)\n",
    "regressor_y = RandomForestRegressor(n_estimators=100, random_state=42)\n",
    "regressor_y.fit(X_train, y_y_train)"
   ]
  },
  {
   "cell_type": "markdown",
   "id": "a2229a8d",
   "metadata": {},
   "source": [
    "### Create master list of all possible frames and predict using regressor."
   ]
  },
  {
   "cell_type": "code",
   "execution_count": null,
   "id": "6a25e20e",
   "metadata": {},
   "outputs": [],
   "source": [
    "# Create master list of all possible frames of particle data\n",
    "frames = np.arange(particles.frame.min(),particles.frame.max())\n",
    "particles_pred = [np.array([frames,np.ones_like(frames) * particle]).T \\\n",
    "                  for particle in particles.particle.unique()][0]\n",
    "particles_pred = pd.DataFrame(particles_pred,columns=['frame','particle'])\n",
    "\n",
    "# Predict missing values with regressor\n",
    "particles_pred['x_pred'] = regressor_x.predict(particles_pred[['frame', 'particle']])\n",
    "particles_pred['y_pred'] = regressor_y.predict(particles_pred[['frame', 'particle']])"
   ]
  },
  {
   "cell_type": "markdown",
   "id": "9d27d856",
   "metadata": {},
   "source": [
    "# Linear Interpolation Comparison \n",
    "Create and interpolate larger list of particles with missing positions, using simple linear interpolation."
   ]
  },
  {
   "cell_type": "code",
   "execution_count": null,
   "id": "7b71458b",
   "metadata": {},
   "outputs": [],
   "source": [
    "particles_missing = pd.merge(left=particles_pred,right=particles,how='left')\n",
    "particles_interpolated = particles_missing.groupby('particle').apply(lambda group: group.interpolate(method='linear'))"
   ]
  },
  {
   "cell_type": "markdown",
   "id": "711c1b20-2a53-4244-9763-71498fdac8b0",
   "metadata": {},
   "source": [
    "### Create master list of all possible frames of particle data"
   ]
  },
  {
   "cell_type": "code",
   "execution_count": null,
   "id": "53c20a5c-547f-4cd6-8e5a-1587cf9642d9",
   "metadata": {},
   "outputs": [],
   "source": [
    "frames = np.arange(particles.frame.min(),particles.frame.max())\n",
    "particles_pred = [np.array([frames,np.ones_like(frames) * particle]).T \\\n",
    "                  for particle in particles.particle.unique()][0]\n",
    "particles_pred = pd.DataFrame(particles_pred,columns=['frame','particle'])"
   ]
  },
  {
   "cell_type": "markdown",
   "id": "bd110cf2-4b68-4c3a-b38c-374de6c2cab0",
   "metadata": {},
   "source": [
    "### Predict missing values with regressor"
   ]
  },
  {
   "cell_type": "code",
   "execution_count": null,
   "id": "4344694f-8848-46fe-801f-3ea47cb42a3a",
   "metadata": {},
   "outputs": [],
   "source": [
    "particles_pred['x_pred'] = regressor_x.predict(particles_pred[['frame', 'particle']])\n",
    "particles_pred['y_pred'] = regressor_y.predict(particles_pred[['frame', 'particle']])"
   ]
  },
  {
   "cell_type": "markdown",
   "id": "e0912e14-67f7-490c-aad7-2d2817ba025e",
   "metadata": {},
   "source": [
    "# Linear Interpolation Comparison "
   ]
  },
  {
   "cell_type": "markdown",
   "id": "b0d124f5-1629-4cd5-b81b-444706f2ba60",
   "metadata": {},
   "source": [
    "### Create and interpolate larger list of particles with missing positions."
   ]
  },
  {
   "cell_type": "code",
   "execution_count": null,
   "id": "47720ebf-c835-43a1-9cdd-25ae0928fa56",
   "metadata": {},
   "outputs": [],
   "source": [
    "particles_missing = pd.merge(left=particles_pred,right=particles,how='left')\n",
    "particles_interpolated = particles_missing.groupby('particle').apply(lambda group: group.interpolate(method='linear'))"
   ]
  },
  {
   "cell_type": "markdown",
   "id": "f943dda5-f9a5-40d2-8e55-d9dba729cd51",
   "metadata": {},
   "source": [
    "# Plot the original and interpolated particle positions\n"
   ]
  },
  {
   "cell_type": "markdown",
   "id": "b5750cae-5c00-4b98-8445-9f159ec69871",
   "metadata": {},
   "source": [
    "### Random Forest Method vs Linear Interpolation - Results"
   ]
  },
  {
   "cell_type": "code",
   "execution_count": null,
   "id": "9cfffcdd-b54c-411b-a848-e8927c0d0f6c",
   "metadata": {},
   "outputs": [],
   "source": [
    "# Plot the original and interpolated particle positions [parameters]\n",
    "fig, (ax1, ax2) = plt.subplots(2, 1, layout='constrained', sharex=True)\n",
    "\n",
    "# Plot original particle positions\n",
    "ax1.scatter(particles['x']/scale, particles['y']/scale, label='Original')\n",
    "\n",
    "# Plot interpolated particle positions\n",
    "ax1.scatter(particles_pred['x_pred']/scale, particles_pred['y_pred']/scale, \n",
    "            label='Interpolated', marker='x',alpha=0.5)\n",
    "\n",
    "ax1.set_ylabel('Y [cm]')\n",
    "ax1.set_title('2D Particle Tracking - Interpolation with Random Forest Regressor')\n",
    "ax1.legend()\n",
    "\n",
    "# Plot original particle positions\n",
    "ax2.scatter(particles['x']/scale, particles['y']/scale, label='Original')\n",
    "# Plot interpolated particle positions\n",
    "ax2.scatter(particles_interpolated['x']/scale, particles_interpolated['y']/scale, \n",
    "            marker='x',label='Interpolated',alpha=0.5)\n",
    "\n",
    "ax2.set_xlabel('X [cm]')\n",
    "ax2.set_ylabel('Y [cm]')\n",
    "ax2.set_title('2D Particle Tracking - Linear Interpolation')\n",
    "ax2.legend()\n",
    "\n",
    "plt.savefig('particle_interpolation_comparison.png',bbox_inches='tight',dpi=300)\n",
    "plt.show()"
   ]
  },
  {
   "cell_type": "markdown",
   "id": "32455938",
   "metadata": {},
   "source": [
    "# Conclusions\n",
    "As we can see, linear interpolation simply \"connects the dots\", while the Random Forest model correctly shows a more arcuate path, as can be seen in my other example of synthetic particle tracks:\\\n",
    "![image info](output_14_0.png)"
   ]
  }
 ],
 "metadata": {
  "kernelspec": {
   "display_name": "Python 3 (ipykernel)",
   "language": "python",
   "name": "python3"
  },
  "language_info": {
   "codemirror_mode": {
    "name": "ipython",
    "version": 3
   },
   "file_extension": ".py",
   "mimetype": "text/x-python",
   "name": "python",
   "nbconvert_exporter": "python",
   "pygments_lexer": "ipython3",
   "version": "3.10.12"
  }
 },
 "nbformat": 4,
 "nbformat_minor": 5
}
